{
 "cells": [
  {
   "cell_type": "code",
   "execution_count": 1,
   "id": "16efcc47",
   "metadata": {},
   "outputs": [],
   "source": [
    "import sys\n",
    "import os\n",
    "sys.path.append(os.path.join('/home','kmendoza','Western_US_Mesh_Dev'))\n",
    "sys.path.append(os.path.join('/home','kmendoza','egi_utils','egi_utils'))\n",
    "import meshfracs\n",
    "import timeit\n",
    "import numpy as np"
   ]
  },
  {
   "cell_type": "code",
   "execution_count": 2,
   "id": "ebc06950",
   "metadata": {},
   "outputs": [],
   "source": [
    "from meshfracs.aspect import _patch_is_rectangular\n",
    "x = np.linspace(0,1,num=2)\n",
    "# square check\n",
    "square_x, square_y = np.meshgrid(x,x,indexing='ij')\n",
    "assert _patch_is_rectangular(square_x, square_y), 'failed square check'\n",
    "\n",
    "# rect 1 check\n",
    "square_x, square_y = np.meshgrid(x,x*5,indexing='ij')\n",
    "assert _patch_is_rectangular(square_x, square_y), 'failed y rect check'\n",
    "\n",
    "# rect 2 check\n",
    "square_x, square_y = np.meshgrid(x*5,x,indexing='ij')\n",
    "assert _patch_is_rectangular(square_x, square_y), 'failed x rect check'\n",
    "\n",
    "# non_rect_check\n",
    "xp = np.copy(x)\n",
    "square_x, square_y = np.meshgrid(x,x,indexing='ij')\n",
    "square_x[0,0]= square_x[0,0]-0.1\n",
    "assert not _patch_is_rectangular(square_x, square_y), 'failed not a rect check'"
   ]
  },
  {
   "cell_type": "code",
   "execution_count": 3,
   "id": "15221ba3",
   "metadata": {},
   "outputs": [],
   "source": [
    "from meshfracs.aspect import _aspect_ratio_exceeds_criteria, _get_max_coordinate_diff\n",
    "\n",
    "xdiff = _get_max_coordinate_diff(square_x)\n",
    "ydiff = _get_max_coordinate_diff(square_y)\n",
    "assert _aspect_ratio_exceeds_criteria(xdiff,ydiff)==0, 'failed nominal check'\n",
    "\n",
    "xdiff = _get_max_coordinate_diff(square_x*5)\n",
    "ydiff = _get_max_coordinate_diff(square_y)\n",
    "assert _aspect_ratio_exceeds_criteria(xdiff,ydiff)==2, 'failed aspect exceeds xdiff check'\n",
    "\n",
    "xdiff = _get_max_coordinate_diff(square_x)\n",
    "ydiff = _get_max_coordinate_diff(square_y*5)\n",
    "assert _aspect_ratio_exceeds_criteria(xdiff,ydiff)==1, 'failed aspect exceeds ydiff check'"
   ]
  },
  {
   "cell_type": "code",
   "execution_count": 4,
   "id": "b4878e77",
   "metadata": {},
   "outputs": [],
   "source": [
    "from meshfracs.aspect import _correct_square_aspect_ratio\n",
    "\n",
    "new_x, new_y = _correct_square_aspect_ratio(square_x*5,square_y)\n",
    "xdiff = _get_max_coordinate_diff(new_x)\n",
    "ydiff = _get_max_coordinate_diff(new_y)\n",
    "assert xdiff/ydiff==4.0, 'failed xdiff is too large check'\n",
    "\n",
    "new_x, new_y = _correct_square_aspect_ratio(square_x,square_y*5)\n",
    "xdiff = _get_max_coordinate_diff(new_x)\n",
    "ydiff = _get_max_coordinate_diff(new_y)\n",
    "assert xdiff/ydiff==1/4, 'failed ydiff is too large check'"
   ]
  },
  {
   "cell_type": "code",
   "execution_count": 5,
   "id": "0340b844",
   "metadata": {},
   "outputs": [],
   "source": [
    "from meshfracs.aspect import _quadrilateral_aspect_ratio_correction\n",
    "\n",
    "\n",
    "square_x, square_y = np.meshgrid(x,x,indexing='ij')\n",
    "square_x[1,0]+=0.1;\n",
    "square_y*=9\n",
    "\n",
    "new_x, new_y = _quadrilateral_aspect_ratio_correction(square_x,square_y)\n",
    "alt_x, alt_y = _quadrilateral_aspect_ratio_correction(new_x,new_y)\n",
    "assert np.all(alt_x==new_x) & np.all(alt_y==new_y), 'irregular correction did not work for x direction'\n",
    "\n",
    "square_x, square_y = np.meshgrid(x,x,indexing='ij')\n",
    "square_y[0,1]+=0.1;\n",
    "square_x*=9\n",
    "\n",
    "new_x, new_y = _quadrilateral_aspect_ratio_correction(square_x,square_y)\n",
    "alt_x, alt_y = _quadrilateral_aspect_ratio_correction(new_x,new_y)\n",
    "assert np.all(alt_x==new_x) & np.all(alt_y==new_y), 'irregular correction did not work for y direction'"
   ]
  },
  {
   "cell_type": "code",
   "execution_count": 6,
   "id": "ad7cddaf",
   "metadata": {},
   "outputs": [
    {
     "data": {
      "text/plain": [
       "array([0., 9.])"
      ]
     },
     "execution_count": 6,
     "metadata": {},
     "output_type": "execute_result"
    }
   ],
   "source": []
  },
  {
   "cell_type": "code",
   "execution_count": null,
   "id": "208c2619",
   "metadata": {},
   "outputs": [],
   "source": []
  }
 ],
 "metadata": {
  "kernelspec": {
   "display_name": "Python 3 (ipykernel)",
   "language": "python",
   "name": "python3"
  },
  "language_info": {
   "codemirror_mode": {
    "name": "ipython",
    "version": 3
   },
   "file_extension": ".py",
   "mimetype": "text/x-python",
   "name": "python",
   "nbconvert_exporter": "python",
   "pygments_lexer": "ipython3",
   "version": "3.7.10"
  }
 },
 "nbformat": 4,
 "nbformat_minor": 5
}
